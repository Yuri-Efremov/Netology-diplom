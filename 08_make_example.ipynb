{
 "cells": [
  {
   "cell_type": "code",
   "execution_count": 1,
   "id": "94a05bc8",
   "metadata": {},
   "outputs": [],
   "source": [
    "import pandas as pd\n",
    "import re\n",
    "import nltk\n",
    "from pymystem3 import Mystem\n",
    "from string import punctuation"
   ]
  },
  {
   "cell_type": "code",
   "execution_count": 2,
   "id": "138520d6",
   "metadata": {},
   "outputs": [
    {
     "name": "stderr",
     "output_type": "stream",
     "text": [
      "[nltk_data] Downloading package stopwords to\n",
      "[nltk_data]     C:\\Users\\79111\\AppData\\Roaming\\nltk_data...\n",
      "[nltk_data]   Package stopwords is already up-to-date!\n"
     ]
    }
   ],
   "source": [
    "nltk.download('stopwords')\n",
    "stop_words = nltk.corpus.stopwords.words('russian')\n",
    "punctuation = set(punctuation + ' ')\n",
    "regex = re.compile(r'[А-ЯЁа-яёA-z-]+')\n",
    "m = Mystem()\n",
    "\n",
    "genres = [\n",
    "    'аниме','биография','боевик','вестерн','военный','детектив','детский','для взрослых','документальный','драма',\n",
    "    'история','комедия','короткометражка','криминал','мелодрама','музыка','мультфильм','мюзикл','приключения',\n",
    "    'реальное ТВ','семейный','спорт','ток-шоу','триллер','ужасы','фантастика','фильм-нуар','фэнтези'\n",
    "]\n",
    "\n",
    "df = pd.DataFrame(columns=['descr','descr_lemmas']+genres)\n",
    "\n",
    "def words_only(text, regex=regex):\n",
    "    '''\n",
    "    Очистка текста от наборов символов, не являющихся словами,\n",
    "    и приведение к нижнему регистру\n",
    "    '''\n",
    "    try:\n",
    "        return ' '.join(regex.findall(text)).lower()\n",
    "    except:\n",
    "        return ''\n",
    "\n",
    "def preprocess_text(text):\n",
    "    '''\n",
    "    Лемматизация текста и его очистка от стоп-слов\n",
    "    '''\n",
    "    text = words_only(text)\n",
    "    tokens = m.lemmatize(text)\n",
    "    \n",
    "    # Удаление токенов, являющихся стоп-словами, либо набором знаков пунктуации\n",
    "    tokens = [token for token in tokens if token not in stop_words and not set(token.strip()) <= punctuation]\n",
    "    \n",
    "    text = ' '.join(tokens)\n",
    "    return text\n",
    "\n",
    "def make_example(genres_list, text):\n",
    "    '''\n",
    "    Добавления объекта в датасет с примерами. Заполнение столбцов\n",
    "    с текстом, лемматизированным текстом, и жанрами.\n",
    "    '''\n",
    "    row_no = len(df)\n",
    "    df.loc[row_no, 'descr'] = text\n",
    "    df.loc[row_no, 'descr_lemmas'] = preprocess_text(text)\n",
    "    \n",
    "    for g in genres:\n",
    "        if g not in genres_list:\n",
    "            df.loc[row_no, g] = 0\n",
    "        else:\n",
    "            df.loc[row_no, g] = 1"
   ]
  },
  {
   "cell_type": "code",
   "execution_count": 3,
   "id": "b45c045f",
   "metadata": {},
   "outputs": [],
   "source": [
    "genres_list = []\n",
    "text = \"\"\"\n",
    "\n",
    "\"\"\"\n",
    "\n",
    "make_example(genres_list, text)\n"
   ]
  },
  {
   "cell_type": "code",
   "execution_count": 4,
   "id": "202b0edf",
   "metadata": {},
   "outputs": [],
   "source": [
    "genres_list = []\n",
    "text = \"\"\"\n",
    "\n",
    "\"\"\"\n",
    "\n",
    "make_example(genres_list, text)\n"
   ]
  },
  {
   "cell_type": "code",
   "execution_count": 5,
   "id": "e6047bff",
   "metadata": {},
   "outputs": [],
   "source": [
    "df.drop('descr', axis=1).to_csv('example.csv', index=False)"
   ]
  }
 ],
 "metadata": {
  "kernelspec": {
   "display_name": "Python 3 (ipykernel)",
   "language": "python",
   "name": "python3"
  },
  "language_info": {
   "codemirror_mode": {
    "name": "ipython",
    "version": 3
   },
   "file_extension": ".py",
   "mimetype": "text/x-python",
   "name": "python",
   "nbconvert_exporter": "python",
   "pygments_lexer": "ipython3",
   "version": "3.11.5"
  }
 },
 "nbformat": 4,
 "nbformat_minor": 5
}
